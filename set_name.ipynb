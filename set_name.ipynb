{
 "cells": [
  {
   "cell_type": "markdown",
   "metadata": {},
   "source": [
    "## Problem"
   ]
  },
  {
   "cell_type": "markdown",
   "metadata": {},
   "source": [
    "- zip image --> geotif image with order bands: B1, B2, B3,..., B12 and has name: ..,GREEN resolution 10m, \n",
    "BLUE resolution 10m, RED....."
   ]
  },
  {
   "cell_type": "markdown",
   "metadata": {},
   "source": [
    "## Input"
   ]
  },
  {
   "cell_type": "code",
   "execution_count": 6,
   "metadata": {},
   "outputs": [],
   "source": [
    "path = \"/Users/mrdung/datacube/datacube_data/data/download/S2B_MSIL2A_20200301T031639_N0214_R118_T48PXS_20200301T072900.zip\""
   ]
  },
  {
   "cell_type": "markdown",
   "metadata": {},
   "source": [
    "## Gather infor about Input"
   ]
  },
  {
   "cell_type": "markdown",
   "metadata": {},
   "source": [
    "#1 Infor about Image"
   ]
  },
  {
   "cell_type": "code",
   "execution_count": null,
   "metadata": {
    "scrolled": true
   },
   "outputs": [],
   "source": [
    "!gdalinfo /Users/mrdung/datacube/datacube_data/data/download/S2B_MSIL2A_20200301T031639_N0214_R118_T48PXS_20200301T072900.zip"
   ]
  },
  {
   "cell_type": "markdown",
   "metadata": {},
   "source": [
    "#2 Info Subdataset"
   ]
  },
  {
   "cell_type": "code",
   "execution_count": null,
   "metadata": {},
   "outputs": [],
   "source": [
    "import gdal, gdalconst\n",
    "import subprocess\n",
    "\n",
    "\n",
    "dataset = gdal.Open(path, gdal.GA_ReadOnly)\n",
    "list_sub_dataset = dataset.GetSubDatasets()\n",
    "list_sub_dataset"
   ]
  },
  {
   "cell_type": "markdown",
   "metadata": {},
   "source": [
    "## Solution"
   ]
  },
  {
   "cell_type": "markdown",
   "metadata": {},
   "source": [
    "### Sol 1"
   ]
  },
  {
   "cell_type": "markdown",
   "metadata": {},
   "source": [
    "- Step 1: Get description of the original image\n",
    "- Step 2: Set descriptions to the destinational image"
   ]
  },
  {
   "cell_type": "code",
   "execution_count": 97,
   "metadata": {},
   "outputs": [],
   "source": [
    "import numpy as np\n",
    "import rasterio\n",
    "\n",
    "\n",
    "def get_tag_and_descriptions(path):\n",
    "    src = rasterio.open(path)\n",
    "    tags = [src.tags(i+1) for i in range(src.count)]\n",
    "    return src.descriptions, tags\n",
    "\n",
    "def get_subdataset_tags_descriptions(path):\n",
    "    \"\"\" return tuple of lists: (list_descriptions, list_tags, metadata(dict)) for each band\"\"\"\n",
    "    subdatasets = src.subdatasets\n",
    "    band_tag_des = [get_tag_and_descriptions(sub__) for sub__ in subdatasets]\n",
    "    \n",
    "    # change from list((tuple, list)) of each subdataset to target format\n",
    "    band_tag_des = np.array(band_tag_des)\n",
    "    return list(np.concatenate(band_tag_des[:, 0])), list(np.concatenate(band_tag_des[:, 1])), src.tags()\n",
    "\n",
    "def set_descriptions_tags(dest_path, source_path):\n",
    "    r = get_subdataset_tags_descriptions(source_path)\n",
    "    with rasterio.open(dest_path, mode='r+') as dest_src:\n",
    "        descriptions, tags, metadata = r\n",
    "        for i in range(dest_src.count):\n",
    "            dest_src.set_band_description(i+1, descriptions[i])\n",
    "            dest_src.update_tags(i+1, **tags[i])\n",
    "        dest_src.update_tags(**metadata)\n",
    "        \n",
    "set_descriptions_tags(\n",
    "    \"/Users/mrdung/datacube/datacube_data/data/download/dung.tif\",\n",
    "    path\n",
    ")"
   ]
  },
  {
   "cell_type": "code",
   "execution_count": null,
   "metadata": {},
   "outputs": [],
   "source": []
  }
 ],
 "metadata": {
  "kernelspec": {
   "display_name": "Python 3",
   "language": "python",
   "name": "python3"
  },
  "language_info": {
   "codemirror_mode": {
    "name": "ipython",
    "version": 3
   },
   "file_extension": ".py",
   "mimetype": "text/x-python",
   "name": "python",
   "nbconvert_exporter": "python",
   "pygments_lexer": "ipython3",
   "version": "3.6.7"
  }
 },
 "nbformat": 4,
 "nbformat_minor": 4
}
