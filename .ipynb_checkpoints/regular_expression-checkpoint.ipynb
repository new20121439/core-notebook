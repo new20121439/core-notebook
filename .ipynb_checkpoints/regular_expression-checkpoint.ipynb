{
 "cells": [
  {
   "cell_type": "markdown",
   "metadata": {},
   "source": [
    "## Problem"
   ]
  },
  {
   "cell_type": "markdown",
   "metadata": {},
   "source": [
    "Find all datetimes in name file --> Retrieve start_time and end_time"
   ]
  },
  {
   "cell_type": "markdown",
   "metadata": {},
   "source": [
    "## Input"
   ]
  },
  {
   "cell_type": "code",
   "execution_count": 203,
   "metadata": {},
   "outputs": [],
   "source": [
    "s2 = 'S2B_MSIL2A_20190215T031829_N0211_R118_T48PWR_20200215T071726_4326_cog'\n",
    "s_uav = 'UAV_30cm_20190419T032539_20190419T080321_4326_cog'"
   ]
  },
  {
   "cell_type": "markdown",
   "metadata": {},
   "source": [
    "## Solution"
   ]
  },
  {
   "cell_type": "code",
   "execution_count": 204,
   "metadata": {},
   "outputs": [],
   "source": [
    "import re\n",
    "from dateutil.parser import parse as dparse\n",
    "from datetime import datetime\n",
    "\n",
    "def find_times(string):\n",
    "    \"\"\" Find start_time and end_time in a string\"\"\"\n",
    "    pattern = r'\\d{8}T?\\d*'\n",
    "    matches = re.findall(pattern, string)\n",
    "    dates = [dparse(match_) for match_ in matches]\n",
    "    return min(dates).strftime(\"%Y%m%d%H%M%S\"), max(dates).strftime(\"%Y%m%d%H%M%S\")"
   ]
  },
  {
   "cell_type": "code",
   "execution_count": 205,
   "metadata": {},
   "outputs": [
    {
     "name": "stdout",
     "output_type": "stream",
     "text": [
      "2019-04-19 08:03:21\n"
     ]
    },
    {
     "data": {
      "text/plain": [
       "('20190419032539', '20190419080321')"
      ]
     },
     "execution_count": 205,
     "metadata": {},
     "output_type": "execute_result"
    }
   ],
   "source": [
    "find_times(s_uav)"
   ]
  }
 ],
 "metadata": {
  "kernelspec": {
   "display_name": "Python 3",
   "language": "python",
   "name": "python3"
  },
  "language_info": {
   "codemirror_mode": {
    "name": "ipython",
    "version": 3
   },
   "file_extension": ".py",
   "mimetype": "text/x-python",
   "name": "python",
   "nbconvert_exporter": "python",
   "pygments_lexer": "ipython3",
   "version": "3.6.7"
  }
 },
 "nbformat": 4,
 "nbformat_minor": 4
}
